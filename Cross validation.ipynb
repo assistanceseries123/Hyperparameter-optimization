{
 "cells": [
  {
   "cell_type": "code",
   "execution_count": 3,
   "id": "062d22d9",
   "metadata": {},
   "outputs": [],
   "source": [
    "import numpy as np\n",
    "import pandas as pd\n",
    "import matplotlib.pyplot as plt\n",
    "import seaborn as sns\n",
    "from scipy.special import comb\n",
    "from sklearn.datasets import load_breast_cancer\n",
    "from sklearn.linear_model import LogisticRegression\n",
    "from sklearn.metrics import accuracy_score\n",
    "from sklearn.model_selection import (KFold,RepeatedKFold,LeaveOneOut,\n",
    "                                     LeavePOut,StratifiedKFold,cross_validate,train_test_split)"
   ]
  },
  {
   "cell_type": "code",
   "execution_count": 5,
   "id": "2b7b2973",
   "metadata": {},
   "outputs": [
    {
     "data": {
      "text/html": [
       "<div>\n",
       "<style scoped>\n",
       "    .dataframe tbody tr th:only-of-type {\n",
       "        vertical-align: middle;\n",
       "    }\n",
       "\n",
       "    .dataframe tbody tr th {\n",
       "        vertical-align: top;\n",
       "    }\n",
       "\n",
       "    .dataframe thead th {\n",
       "        text-align: right;\n",
       "    }\n",
       "</style>\n",
       "<table border=\"1\" class=\"dataframe\">\n",
       "  <thead>\n",
       "    <tr style=\"text-align: right;\">\n",
       "      <th></th>\n",
       "      <th>0</th>\n",
       "      <th>1</th>\n",
       "      <th>2</th>\n",
       "      <th>3</th>\n",
       "      <th>4</th>\n",
       "      <th>5</th>\n",
       "      <th>6</th>\n",
       "      <th>7</th>\n",
       "      <th>8</th>\n",
       "      <th>9</th>\n",
       "      <th>...</th>\n",
       "      <th>20</th>\n",
       "      <th>21</th>\n",
       "      <th>22</th>\n",
       "      <th>23</th>\n",
       "      <th>24</th>\n",
       "      <th>25</th>\n",
       "      <th>26</th>\n",
       "      <th>27</th>\n",
       "      <th>28</th>\n",
       "      <th>29</th>\n",
       "    </tr>\n",
       "  </thead>\n",
       "  <tbody>\n",
       "    <tr>\n",
       "      <th>0</th>\n",
       "      <td>17.99</td>\n",
       "      <td>10.38</td>\n",
       "      <td>122.80</td>\n",
       "      <td>1001.0</td>\n",
       "      <td>0.11840</td>\n",
       "      <td>0.27760</td>\n",
       "      <td>0.3001</td>\n",
       "      <td>0.14710</td>\n",
       "      <td>0.2419</td>\n",
       "      <td>0.07871</td>\n",
       "      <td>...</td>\n",
       "      <td>25.38</td>\n",
       "      <td>17.33</td>\n",
       "      <td>184.60</td>\n",
       "      <td>2019.0</td>\n",
       "      <td>0.1622</td>\n",
       "      <td>0.6656</td>\n",
       "      <td>0.7119</td>\n",
       "      <td>0.2654</td>\n",
       "      <td>0.4601</td>\n",
       "      <td>0.11890</td>\n",
       "    </tr>\n",
       "    <tr>\n",
       "      <th>1</th>\n",
       "      <td>20.57</td>\n",
       "      <td>17.77</td>\n",
       "      <td>132.90</td>\n",
       "      <td>1326.0</td>\n",
       "      <td>0.08474</td>\n",
       "      <td>0.07864</td>\n",
       "      <td>0.0869</td>\n",
       "      <td>0.07017</td>\n",
       "      <td>0.1812</td>\n",
       "      <td>0.05667</td>\n",
       "      <td>...</td>\n",
       "      <td>24.99</td>\n",
       "      <td>23.41</td>\n",
       "      <td>158.80</td>\n",
       "      <td>1956.0</td>\n",
       "      <td>0.1238</td>\n",
       "      <td>0.1866</td>\n",
       "      <td>0.2416</td>\n",
       "      <td>0.1860</td>\n",
       "      <td>0.2750</td>\n",
       "      <td>0.08902</td>\n",
       "    </tr>\n",
       "    <tr>\n",
       "      <th>2</th>\n",
       "      <td>19.69</td>\n",
       "      <td>21.25</td>\n",
       "      <td>130.00</td>\n",
       "      <td>1203.0</td>\n",
       "      <td>0.10960</td>\n",
       "      <td>0.15990</td>\n",
       "      <td>0.1974</td>\n",
       "      <td>0.12790</td>\n",
       "      <td>0.2069</td>\n",
       "      <td>0.05999</td>\n",
       "      <td>...</td>\n",
       "      <td>23.57</td>\n",
       "      <td>25.53</td>\n",
       "      <td>152.50</td>\n",
       "      <td>1709.0</td>\n",
       "      <td>0.1444</td>\n",
       "      <td>0.4245</td>\n",
       "      <td>0.4504</td>\n",
       "      <td>0.2430</td>\n",
       "      <td>0.3613</td>\n",
       "      <td>0.08758</td>\n",
       "    </tr>\n",
       "    <tr>\n",
       "      <th>3</th>\n",
       "      <td>11.42</td>\n",
       "      <td>20.38</td>\n",
       "      <td>77.58</td>\n",
       "      <td>386.1</td>\n",
       "      <td>0.14250</td>\n",
       "      <td>0.28390</td>\n",
       "      <td>0.2414</td>\n",
       "      <td>0.10520</td>\n",
       "      <td>0.2597</td>\n",
       "      <td>0.09744</td>\n",
       "      <td>...</td>\n",
       "      <td>14.91</td>\n",
       "      <td>26.50</td>\n",
       "      <td>98.87</td>\n",
       "      <td>567.7</td>\n",
       "      <td>0.2098</td>\n",
       "      <td>0.8663</td>\n",
       "      <td>0.6869</td>\n",
       "      <td>0.2575</td>\n",
       "      <td>0.6638</td>\n",
       "      <td>0.17300</td>\n",
       "    </tr>\n",
       "    <tr>\n",
       "      <th>4</th>\n",
       "      <td>20.29</td>\n",
       "      <td>14.34</td>\n",
       "      <td>135.10</td>\n",
       "      <td>1297.0</td>\n",
       "      <td>0.10030</td>\n",
       "      <td>0.13280</td>\n",
       "      <td>0.1980</td>\n",
       "      <td>0.10430</td>\n",
       "      <td>0.1809</td>\n",
       "      <td>0.05883</td>\n",
       "      <td>...</td>\n",
       "      <td>22.54</td>\n",
       "      <td>16.67</td>\n",
       "      <td>152.20</td>\n",
       "      <td>1575.0</td>\n",
       "      <td>0.1374</td>\n",
       "      <td>0.2050</td>\n",
       "      <td>0.4000</td>\n",
       "      <td>0.1625</td>\n",
       "      <td>0.2364</td>\n",
       "      <td>0.07678</td>\n",
       "    </tr>\n",
       "  </tbody>\n",
       "</table>\n",
       "<p>5 rows × 30 columns</p>\n",
       "</div>"
      ],
      "text/plain": [
       "      0      1       2       3        4        5       6        7       8   \\\n",
       "0  17.99  10.38  122.80  1001.0  0.11840  0.27760  0.3001  0.14710  0.2419   \n",
       "1  20.57  17.77  132.90  1326.0  0.08474  0.07864  0.0869  0.07017  0.1812   \n",
       "2  19.69  21.25  130.00  1203.0  0.10960  0.15990  0.1974  0.12790  0.2069   \n",
       "3  11.42  20.38   77.58   386.1  0.14250  0.28390  0.2414  0.10520  0.2597   \n",
       "4  20.29  14.34  135.10  1297.0  0.10030  0.13280  0.1980  0.10430  0.1809   \n",
       "\n",
       "        9   ...     20     21      22      23      24      25      26      27  \\\n",
       "0  0.07871  ...  25.38  17.33  184.60  2019.0  0.1622  0.6656  0.7119  0.2654   \n",
       "1  0.05667  ...  24.99  23.41  158.80  1956.0  0.1238  0.1866  0.2416  0.1860   \n",
       "2  0.05999  ...  23.57  25.53  152.50  1709.0  0.1444  0.4245  0.4504  0.2430   \n",
       "3  0.09744  ...  14.91  26.50   98.87   567.7  0.2098  0.8663  0.6869  0.2575   \n",
       "4  0.05883  ...  22.54  16.67  152.20  1575.0  0.1374  0.2050  0.4000  0.1625   \n",
       "\n",
       "       28       29  \n",
       "0  0.4601  0.11890  \n",
       "1  0.2750  0.08902  \n",
       "2  0.3613  0.08758  \n",
       "3  0.6638  0.17300  \n",
       "4  0.2364  0.07678  \n",
       "\n",
       "[5 rows x 30 columns]"
      ]
     },
     "execution_count": 5,
     "metadata": {},
     "output_type": "execute_result"
    }
   ],
   "source": [
    "x_breast,y_breast=load_breast_cancer(return_X_y=True)\n",
    "x=pd.DataFrame(x_breast)\n",
    "y=pd.Series(y_breast).map({0:1,1:0})\n",
    "x.head()"
   ]
  },
  {
   "cell_type": "code",
   "execution_count": 6,
   "id": "ec6e0032",
   "metadata": {},
   "outputs": [
    {
     "data": {
      "text/plain": [
       "0    0.627417\n",
       "1    0.372583\n",
       "dtype: float64"
      ]
     },
     "execution_count": 6,
     "metadata": {},
     "output_type": "execute_result"
    }
   ],
   "source": [
    "#Peretage of the  benign and the malign tumour\n",
    "y.value_counts()/len(y)"
   ]
  },
  {
   "cell_type": "code",
   "execution_count": 8,
   "id": "99f2d086",
   "metadata": {},
   "outputs": [
    {
     "name": "stdout",
     "output_type": "stream",
     "text": [
      "(398, 30)\n",
      "(171, 30)\n"
     ]
    }
   ],
   "source": [
    "#Split the dataset into the train test split\n",
    "x_train,x_test,y_train,y_test=train_test_split(x,y,test_size=0.3,random_state=0)\n",
    "print(x_train.shape)\n",
    "print(x_test.shape)"
   ]
  },
  {
   "cell_type": "markdown",
   "id": "f2398c95",
   "metadata": {},
   "source": [
    "# K-FOld cross validation"
   ]
  },
  {
   "cell_type": "code",
   "execution_count": 11,
   "id": "769298db",
   "metadata": {},
   "outputs": [
    {
     "data": {
      "text/plain": [
       "array([0.925     , 0.95      , 0.9625    , 0.96202532, 0.94936709])"
      ]
     },
     "execution_count": 11,
     "metadata": {},
     "output_type": "execute_result"
    }
   ],
   "source": [
    "#Logistics Regression\n",
    "logit=LogisticRegression(penalty='l2',C=10,solver='liblinear',random_state=4,max_iter=10000)\n",
    "#K-FGold ccross validation\n",
    "kf=KFold(n_splits=5,shuffle=True,random_state=4)\n",
    "clf=cross_validate(logit,x_train,y_train,scoring='accuracy',return_train_score=True,cv=kf,)\n",
    "clf['test_score']"
   ]
  },
  {
   "cell_type": "code",
   "execution_count": 12,
   "id": "93fa45a7",
   "metadata": {},
   "outputs": [
    {
     "data": {
      "text/plain": [
       "array([0.97169811, 0.96540881, 0.96855346, 0.96238245, 0.97178683])"
      ]
     },
     "execution_count": 12,
     "metadata": {},
     "output_type": "execute_result"
    }
   ],
   "source": [
    "clf['train_score']"
   ]
  },
  {
   "cell_type": "code",
   "execution_count": 13,
   "id": "0cd3180f",
   "metadata": {},
   "outputs": [
    {
     "name": "stdout",
     "output_type": "stream",
     "text": [
      "mean train set accuracy: 0.9679659312710711 +- 0.003649325403713798\n",
      "mean test set accuracy: 0.9497784810126582 +- 0.013608919570498668\n"
     ]
    }
   ],
   "source": [
    "print('mean train set accuracy:',np.mean(clf['train_score']),'+-',np.std(clf['train_score']))\n",
    "print('mean test set accuracy:',np.mean(clf['test_score']),'+-',np.std(clf['test_score']))"
   ]
  },
  {
   "cell_type": "markdown",
   "id": "4f4434bd",
   "metadata": {},
   "source": [
    "# Repeated K-FOLD"
   ]
  },
  {
   "cell_type": "code",
   "execution_count": 16,
   "id": "eb034167",
   "metadata": {},
   "outputs": [
    {
     "name": "stdout",
     "output_type": "stream",
     "text": [
      "We except k*n performance metrics: 50\n",
      "Number of metrics obtained: 50\n"
     ]
    },
    {
     "data": {
      "text/plain": [
       "array([0.9       , 0.9375    , 0.975     , 0.96202532, 0.94936709,\n",
       "       0.9625    , 0.9625    , 0.9125    , 0.96202532, 0.92405063,\n",
       "       0.9875    , 0.95      , 0.975     , 0.91139241, 0.96202532,\n",
       "       0.95      , 0.9375    , 0.95      , 0.92405063, 0.96202532,\n",
       "       0.975     , 0.9125    , 0.9375    , 0.94936709, 0.96202532,\n",
       "       0.9875    , 0.9125    , 0.9375    , 0.91139241, 0.96202532,\n",
       "       0.9625    , 0.9375    , 0.95      , 0.92405063, 0.93670886,\n",
       "       0.95      , 0.95      , 0.95      , 0.98734177, 0.88607595,\n",
       "       0.95      , 0.925     , 0.9625    , 0.96202532, 0.94936709,\n",
       "       0.925     , 0.9625    , 0.925     , 0.91139241, 0.96202532])"
      ]
     },
     "execution_count": 16,
     "metadata": {},
     "output_type": "execute_result"
    }
   ],
   "source": [
    "#Logistics Regression\n",
    "logit=LogisticRegression(penalty='l2',C=1,solver='liblinear',random_state=4,max_iter=10000)\n",
    "#Repeated K-Fold crossvalidation\n",
    "rkf=RepeatedKFold(n_splits=5,n_repeats=10,random_state=4)\n",
    "print(\"We except k*n performance metrics:\",5*10)\n",
    "#search\n",
    "clf=cross_validate(logit,x_train,y_train,scoring='accuracy',return_train_score=True,cv=rkf)\n",
    "print('Number of metrics obtained:',len(clf['test_score']))\n",
    "clf['test_score']"
   ]
  },
  {
   "cell_type": "code",
   "execution_count": 17,
   "id": "cc2d928a",
   "metadata": {},
   "outputs": [
    {
     "name": "stdout",
     "output_type": "stream",
     "text": [
      "Mean train test accuracy: 0.9603627688728534 +- 0.006592970819977563\n",
      "Mean test set accuracy: 0.9454651898734177 +- 0.023290636388696693\n"
     ]
    }
   ],
   "source": [
    "print(\"Mean train test accuracy:\",np.mean(clf['train_score']),'+-',np.std(clf['train_score']))\n",
    "print(\"Mean test set accuracy:\",np.mean(clf['test_score']),'+-',np.std(clf['test_score']))"
   ]
  },
  {
   "cell_type": "markdown",
   "id": "48b71744",
   "metadata": {},
   "source": [
    "# Leave one out"
   ]
  },
  {
   "cell_type": "code",
   "execution_count": 18,
   "id": "2cf9b9c5",
   "metadata": {},
   "outputs": [
    {
     "name": "stdout",
     "output_type": "stream",
     "text": [
      "As we except many metrics as data in the train set: 398\n",
      "Number of metrics obtained: 398\n"
     ]
    },
    {
     "data": {
      "text/plain": [
       "array([1., 1., 1., 1., 1., 1., 1., 1., 1., 1., 1., 1., 1., 1., 1., 1., 1.,\n",
       "       1., 1., 1., 1., 1., 1., 1., 1., 1., 1., 1., 0., 1., 1., 1., 1., 1.,\n",
       "       1., 1., 1., 1., 1., 1., 1., 1., 1., 1., 1., 1., 1., 1., 1., 1., 1.,\n",
       "       1., 1., 1., 1., 1., 1., 1., 1., 1., 1., 1., 1., 1., 1., 1., 1., 1.,\n",
       "       0., 1., 1., 1., 1., 1., 1., 1., 1., 1., 1., 1., 1., 0., 1., 1., 1.,\n",
       "       1., 1., 1., 1., 1., 1., 1., 1., 1., 1., 1., 0., 1., 1., 1., 1., 1.,\n",
       "       1., 1., 1., 1., 1., 1., 1., 1., 1., 1., 1., 1., 1., 1., 1., 1., 1.,\n",
       "       1., 1., 1., 1., 1., 1., 1., 1., 1., 1., 0., 1., 1., 1., 1., 1., 1.,\n",
       "       1., 1., 0., 1., 1., 1., 1., 1., 1., 1., 1., 1., 1., 1., 1., 1., 1.,\n",
       "       1., 1., 1., 0., 0., 1., 1., 1., 1., 1., 1., 1., 1., 0., 0., 1., 1.,\n",
       "       1., 1., 1., 1., 1., 1., 0., 1., 1., 1., 1., 1., 1., 1., 1., 1., 1.,\n",
       "       1., 1., 1., 0., 1., 1., 1., 1., 1., 1., 1., 1., 1., 1., 1., 1., 1.,\n",
       "       1., 1., 1., 1., 1., 0., 1., 0., 1., 1., 1., 1., 0., 1., 1., 1., 1.,\n",
       "       1., 1., 1., 1., 1., 1., 1., 1., 1., 1., 1., 1., 1., 1., 1., 1., 1.,\n",
       "       1., 1., 1., 1., 1., 1., 1., 1., 1., 1., 1., 1., 1., 1., 1., 1., 1.,\n",
       "       1., 1., 1., 0., 1., 1., 1., 1., 1., 0., 1., 1., 1., 1., 1., 1., 1.,\n",
       "       1., 1., 1., 1., 1., 1., 0., 0., 1., 1., 1., 1., 1., 1., 1., 1., 1.,\n",
       "       1., 1., 1., 1., 1., 1., 1., 1., 1., 1., 1., 1., 1., 1., 1., 1., 1.,\n",
       "       1., 1., 1., 1., 1., 1., 1., 1., 1., 1., 1., 1., 1., 1., 1., 1., 1.,\n",
       "       1., 1., 1., 1., 1., 1., 1., 1., 1., 1., 1., 1., 1., 1., 1., 1., 1.,\n",
       "       1., 1., 1., 1., 1., 1., 1., 1., 1., 0., 1., 1., 1., 1., 1., 1., 1.,\n",
       "       1., 1., 1., 1., 1., 1., 1., 0., 1., 1., 1., 1., 1., 1., 1., 1., 1.,\n",
       "       1., 1., 1., 1., 1., 1., 1., 1., 1., 1., 1., 1., 1., 1., 1., 1., 1.,\n",
       "       1., 1., 1., 1., 1., 1., 1.])"
      ]
     },
     "execution_count": 18,
     "metadata": {},
     "output_type": "execute_result"
    }
   ],
   "source": [
    "#Logistics regression\n",
    "logit=LogisticRegression(penalty='l2',C=1,solver='liblinear',random_state=4,max_iter=10000)\n",
    "loo=LeaveOneOut()\n",
    "\n",
    "print(\"As we except many metrics as data in the train set:\",len(x_train))\n",
    "\n",
    "clf=cross_validate(logit,x_train,y_train,scoring='accuracy',return_train_score=True,cv=loo)\n",
    "print(\"Number of metrics obtained:\",len(clf['test_score']))\n",
    "clf['test_score']"
   ]
  },
  {
   "cell_type": "code",
   "execution_count": 25,
   "id": "2125ef6b",
   "metadata": {},
   "outputs": [
    {
     "name": "stdout",
     "output_type": "stream",
     "text": [
      "Mean train test accuracy: 0.9575079427363519 +- 0.0012575839695838692\n"
     ]
    }
   ],
   "source": [
    "print('Mean train test accuracy:',np.mean(clf['train_score']),'+-',np.std(clf['train_score']))\n"
   ]
  },
  {
   "cell_type": "code",
   "execution_count": 26,
   "id": "52ff57c2",
   "metadata": {},
   "outputs": [
    {
     "name": "stdout",
     "output_type": "stream",
     "text": [
      "Mean test set accuracy: 0.9472361809045227 +- 0.22356162123660028\n"
     ]
    }
   ],
   "source": [
    "print(\"Mean test set accuracy:\",np.mean(clf['test_score']),'+-',np.std(clf['test_score']))"
   ]
  },
  {
   "cell_type": "markdown",
   "id": "794292f9",
   "metadata": {},
   "source": [
    "# Leave P out"
   ]
  },
  {
   "cell_type": "code",
   "execution_count": 27,
   "id": "8f2dfb14",
   "metadata": {},
   "outputs": [
    {
     "name": "stdout",
     "output_type": "stream",
     "text": [
      "We except: 4950.0 metrics\n",
      "Number of metrics obtained: 4950\n"
     ]
    }
   ],
   "source": [
    "#Logistics Regression\n",
    "logit=LogisticRegression(penalty='l2',solver='liblinear',random_state=4,max_iter=10000)\n",
    "#Leave p out cross validation\n",
    "lpo=LeavePOut(p=2)\n",
    "#I take a smaller sample of data otherwise my computers runb out of memory\n",
    "x_train_small=x_train.head(100)\n",
    "y_train_small=y_train.head(100)\n",
    "#The number of combination of N things tajken k at a time\n",
    "print(\"We except:\",comb(100,2),'metrics')\n",
    "#Search\n",
    "clf=cross_validate(logit,x_train_small,y_train_small,scoring='accuracy',return_train_score=True,cv=lpo)\n",
    "print(\"Number of metrics obtained:\",len(clf['test_score']))"
   ]
  },
  {
   "cell_type": "code",
   "execution_count": 28,
   "id": "d0e540ba",
   "metadata": {},
   "outputs": [
    {
     "name": "stdout",
     "output_type": "stream",
     "text": [
      "Mean train test accuracy: 0.9700020614306328 +- 0.0032367717044687024\n",
      "Mean test set accuracy: 0.9190909090909091 +- 0.19298082235326716\n"
     ]
    }
   ],
   "source": [
    "print(\"Mean train test accuracy:\",np.mean(clf['train_score']),'+-',np.std(clf['train_score']))\n",
    "print(\"Mean test set accuracy:\",np.mean(clf['test_score']),'+-',np.std(clf['test_score']))"
   ]
  },
  {
   "cell_type": "markdown",
   "id": "8be1e8b8",
   "metadata": {},
   "source": [
    "# Stratified cross validation"
   ]
  },
  {
   "cell_type": "code",
   "execution_count": 31,
   "id": "536d6ce6",
   "metadata": {},
   "outputs": [
    {
     "data": {
      "text/plain": [
       "5"
      ]
     },
     "execution_count": 31,
     "metadata": {},
     "output_type": "execute_result"
    }
   ],
   "source": [
    "#Logistics Regression\n",
    "logit=LogisticRegression(penalty='l2',solver='liblinear',random_state=4,max_iter=10000)\n",
    "\n",
    "#Staratified validation\n",
    "sv=StratifiedKFold(n_splits=5,shuffle=True,random_state=4)\n",
    "#Search\n",
    "clf=cross_validate(logit,x_train,y_train,scoring='accuracy',return_train_score=True,cv=sv)\n",
    "len(clf['test_score'])"
   ]
  },
  {
   "cell_type": "code",
   "execution_count": null,
   "id": "dc59dddb",
   "metadata": {},
   "outputs": [],
   "source": [
    "print(\"Mean train test accuracy:\",np.mean())"
   ]
  }
 ],
 "metadata": {
  "kernelspec": {
   "display_name": "Python 3 (ipykernel)",
   "language": "python",
   "name": "python3"
  },
  "language_info": {
   "codemirror_mode": {
    "name": "ipython",
    "version": 3
   },
   "file_extension": ".py",
   "mimetype": "text/x-python",
   "name": "python",
   "nbconvert_exporter": "python",
   "pygments_lexer": "ipython3",
   "version": "3.10.1"
  }
 },
 "nbformat": 4,
 "nbformat_minor": 5
}
